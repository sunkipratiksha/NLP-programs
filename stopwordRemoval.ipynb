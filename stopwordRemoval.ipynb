{
 "cells": [
  {
   "cell_type": "code",
   "execution_count": null,
   "metadata": {},
   "outputs": [],
   "source": [
    "# 1. IMPORTING DATA\n",
    "file=open(\"moon.txt\",'r')\n",
    "text = file.read()\n",
    "file.close()"
   ]
  },
  {
   "cell_type": "code",
   "execution_count": null,
   "metadata": {},
   "outputs": [],
   "source": [
    "#TEXT CLEANING using RegEx\n",
    "import re\n",
    "#function to clean the text\n",
    "def clean_text(text):\n",
    "    text = text.lower()\n",
    "    text = re.sub('[,.\\n]','',text)\n",
    "    return text\n",
    "\n",
    "#text with no commas, fullstop and newline character\n",
    "cleaned = clean_text(text)  #"
   ]
  },
  {
   "cell_type": "code",
   "execution_count": null,
   "metadata": {},
   "outputs": [],
   "source": [
    "#LOADING ENGLISH LANGUAGE MODEL FROM SPACY LIBRARY\n",
    "import spacy\n",
    "nlp = spacy.load(\"en_core_web_sm\")\n",
    "doc = nlp(cleaned)  #creating doc obj\n",
    "\n",
    "non = nlp.Defaults.stop_words\n",
    "\n",
    "#printing the stopwords:\n",
    "print(\"\\nSTOPWORDS: \\n\",nlp.Defaults.stop_words)\n",
    "\n",
    "#create a list of tokens that are not stopwords\n",
    "non_stopwords = [i.text for i in doc if not (i.is_stop)]\n",
    "print(\"NOT STOPWORDS: \\n\",non_stopwords)"
   ]
  },
  {
   "cell_type": "code",
   "execution_count": null,
   "metadata": {},
   "outputs": [],
   "source": [
    "#COUNTING WORDS:\n",
    "#create a dict to count the occurrences of stopwords:\n",
    "s_words = {}\n",
    "for i in doc:\n",
    "    if i.is_stop:  \n",
    "        if i.text in s_words:\n",
    "            s_words[i.text]+=1  #counts \n",
    "        else:\n",
    "            s_words[i.text]=1\n",
    "print(s_words)"
   ]
  },
  {
   "cell_type": "code",
   "execution_count": null,
   "metadata": {},
   "outputs": [],
   "source": [
    "#create a dict to count the occurrences of non-stopwords:\n",
    "non_stop = {}\n",
    "for i in doc:\n",
    "    if not i.is_stop:  # not\n",
    "        if i.text in non_stop:\n",
    "            non_stop[i.text]+=1\n",
    "        else:\n",
    "            non_stop[i.text]=1\n",
    "print(non_stop) "
   ]
  },
  {
   "cell_type": "code",
   "execution_count": null,
   "metadata": {},
   "outputs": [],
   "source": [
    "#create a dataframe for STOPWORDS with word-count pair\n",
    "import pandas as pd\n",
    "stop_df = pd.DataFrame({'STOPWORDS':list(s_words.keys()),'COUNT': list(s_words.values())})\n",
    "print(stop_df)\n",
    "\n"
   ]
  },
  {
   "cell_type": "code",
   "execution_count": null,
   "metadata": {},
   "outputs": [],
   "source": [
    "#create a dataframe for NON-STOPWORDS with word-count pair\n",
    "nonstop_df = pd.DataFrame({'NON-STOPWORDS':list(non_stop.keys()),'COUNT':list(non_stop.values())})\n",
    "print(nonstop_df)"
   ]
  },
  {
   "cell_type": "code",
   "execution_count": null,
   "metadata": {},
   "outputs": [],
   "source": [
    "remove = [i for i in doc if i.text not in non]\n",
    "rem = ' '.join(i.text for i in remove)   #separator.join(iterable)\n",
    "print(\"\\n\\nRemoved stopwords from the text: \\n\",rem)"
   ]
  }
 ],
 "metadata": {
  "kernelspec": {
   "display_name": "Python 3",
   "language": "python",
   "name": "python3"
  },
  "language_info": {
   "codemirror_mode": {
    "name": "ipython",
    "version": 3
   },
   "file_extension": ".py",
   "mimetype": "text/x-python",
   "name": "python",
   "nbconvert_exporter": "python",
   "pygments_lexer": "ipython3",
   "version": "3.11.3"
  },
  "orig_nbformat": 4
 },
 "nbformat": 4,
 "nbformat_minor": 2
}
