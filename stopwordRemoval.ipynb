{
 "cells": [
  {
   "cell_type": "code",
   "execution_count": 37,
   "metadata": {},
   "outputs": [],
   "source": [
    "# 1. IMPORTING DATA\n",
    "file=open(\"moon.txt\",'r')\n",
    "text = file.read()\n",
    "file.close()"
   ]
  },
  {
   "cell_type": "code",
   "execution_count": 38,
   "metadata": {},
   "outputs": [],
   "source": [
    "#TEXT CLEANING using RegEx\n",
    "import re\n",
    "#function to clean the text\n",
    "def clean_text(text):\n",
    "    text = text.lower()\n",
    "    text = re.sub('[,.\\n]','',text)\n",
    "    return text\n",
    "\n",
    "#text with no commas, fullstop and newline character\n",
    "cleaned = clean_text(text)  #"
   ]
  },
  {
   "cell_type": "code",
   "execution_count": 39,
   "metadata": {},
   "outputs": [
    {
     "name": "stdout",
     "output_type": "stream",
     "text": [
      "\n",
      "STOPWORDS: \n",
      " {'how', 'nevertheless', 'none', 'out', 'nor', \"'ve\", 'whereby', 'ca', 'thereby', 'of', 'using', 'around', 'well', 'enough', 'latter', 'towards', 'between', 'hereafter', 'had', 'it', 'whoever', 'will', 'everyone', 'nine', 'upon', 'n’t', 'but', 'almost', 'anyhow', 'do', 'move', 'does', 'ten', 'seeming', 'anyway', 'beforehand', 'somewhere', 'somehow', 'among', 'yet', 'few', 'name', 'nothing', 'be', 'whereupon', 'whence', 'his', 'various', 'others', 'besides', 'as', 're', 'must', 'behind', 'whom', 'each', 'are', 'whereafter', 'anywhere', 'top', 'unless', 'therefore', 'however', 'five', 'with', 'whose', 'was', 'make', 'above', 'this', 'empty', 'forty', 'there', 'get', 'although', 'call', 'while', 'now', 'himself', 'any', 'every', 'sometimes', 'often', 'by', 'another', 'which', 'not', 'most', 'its', 'least', 'down', 'up', 'own', '’d', 'toward', 'been', 'in', 'though', 'here', 'latterly', 'never', 'yourselves', 'already', 'no', 'her', 'thereafter', 'can', 'next', '‘d', 'whither', 'more', 'she', 'sixty', 'please', 'themselves', \"'d\", 'would', 'really', 'quite', 'regarding', 'our', 'herself', 'eight', 'they', '’m', 'many', 'or', 'thus', 'see', 'only', 'hereby', 'i', '’ve', 'formerly', 'noone', 'what', 'serious', 'thence', 'am', 'alone', 'itself', 'beside', 'mostly', 'against', 'who', 'sometime', 'all', 'made', 'eleven', 'rather', 'for', 'fifty', 'yours', 'hundred', 'back', \"'s\", 'indeed', 'than', \"'re\", 'along', 'everything', 'cannot', 'a', 'also', 'yourself', 'on', 'become', 'whereas', 'being', 'one', 'afterwards', 'those', 'and', 'say', '’ll', 'such', 'may', 'two', 'mine', 'full', 'seemed', 'else', 'becomes', 'something', 'my', 'very', 'still', 'might', 'has', 'same', 'across', 'side', 'since', 'otherwise', 'nowhere', 'over', 'elsewhere', 'take', 'used', '‘m', \"'ll\", 'he', 'either', 'both', 'give', 'below', 'at', 'seem', 'namely', 'we', 'when', 'someone', 'him', 'so', 'ours', 'them', 'these', 'front', 'neither', 'hers', 'together', 'from', 'after', 'became', '’s', 'you', 'everywhere', 'during', 'hence', 'us', 'their', 'nobody', 'first', 'amount', 'twenty', 'into', 'except', 'whole', 'show', 'were', 'through', 'n‘t', 'that', 'your', 'too', 'herein', 'off', 'doing', 'therein', 'the', 'always', 'keep', 'less', 'is', \"'m\", 'put', 'anything', 'could', '‘s', 'per', 'whenever', 'onto', 'hereupon', 'done', 'amongst', \"n't\", 'about', 'several', 'did', 'whether', 'whatever', 'part', 'wherever', 'twelve', 'former', 'anyone', 'should', 'becoming', 'thereupon', 'beyond', 'fifteen', 'an', 'me', 'some', 'under', 'four', 'moreover', 'perhaps', 'further', '’re', 'because', 'due', 'just', 'meanwhile', 'third', 'ourselves', 'seems', 'why', 'much', '‘re', 'then', 'six', 'even', 'ever', 'bottom', 'last', 'wherein', 'thru', 'without', 'other', 'until', '‘ve', 'where', 'to', 'myself', 'go', 'again', 'once', 'have', 'before', 'throughout', 'via', 'three', 'within', '‘ll', 'if'}\n",
      "NOT STOPWORDS: \n",
      " ['moon', 'satellite', 'earth', 'moves', 'round', 'earth', 'shines', 'night', 'light', 'reflected', 'sun', 'looks', 'beautiful', 'bright', 'moonlight', 'soothing', 'earthly', 'objects', 'shine', 'like', 'silver', 'moonlight', 'fascinated', 'enchanting', 'beauty', 'moon', 'moon', 'beautiful', 'looks', 'lovely', 'shines', 'sky', 'night', 'matter', 'fact', 'devoid', 'plants', 'animals', 'moon', 'suitable', 'place', 'plants', 'animals', 'form', 'life', 'found', 'moon', 'unlike', 'earth', 'moon', 'got', 'atmosphere', 'lunar', 'days', 'hot', 'lunar', 'nights', 'intensely', 'cold', 'moon', 'looks', 'beautiful', 'earth', 'fact', 'forbidding', 'appearance', 'rocks', 'craters', 'look', 'moon', 'night', 'dark', 'spots', 'dark', 'spots', 'dangerous', 'rocks', 'craters', 'gravitational', 'pull', 'moon', 'earth', 'difficult', 'walk', 'surface', 'moon', 'moon', 'fascinated', 'man', 'beginning', 'life', 'earth', 'looked', 'wonder', 'poets', 'composed', 'beautiful', 'poems', 'moon', 'scientists', 'tried', 'reveal', 'mystery', 'moon', 'wanted', 'send', 'human', 'moon', 'attempts', 'place', 'man', 'moon', 'americans', '-', 'neil', 'armstrong', 'edwin', 'aldrin', '-', 'reached', 'moon', 'july', '21', '1969', 'walked', 'surface', 'moon', 'collected', 'lunar', 'rocks', 'returned', 'earth', 'safely', 'american', 'scientists', 'sent', 'men', 'moon', 'times', 'moon', 'conquered', 'man', 'longer', 'mysterious', 'object', 'journey', 'moon', 'thrilling', 'life', 'earth', 'happy', 'better', 'happy', 'life', 'earth', 'moon']\n"
     ]
    }
   ],
   "source": [
    "#LOADING ENGLISH LANGUAGE MODEL FROM SPACY LIBRARY\n",
    "import spacy\n",
    "nlp = spacy.load(\"en_core_web_sm\")\n",
    "doc = nlp(cleaned)  #creating doc obj\n",
    "\n",
    "non = nlp.Defaults.stop_words\n",
    "\n",
    "#printing the stopwords:\n",
    "print(\"\\nSTOPWORDS: \\n\",nlp.Defaults.stop_words)\n",
    "\n",
    "#create a list of tokens that are not stopwords\n",
    "non_stopwords = [i.text for i in doc if not (i.is_stop)]\n",
    "print(\"NOT STOPWORDS: \\n\",non_stopwords)"
   ]
  },
  {
   "cell_type": "code",
   "execution_count": 40,
   "metadata": {},
   "outputs": [
    {
     "name": "stdout",
     "output_type": "stream",
     "text": [
      "{'the': 47, 'is': 10, 'of': 13, 'it': 15, 'at': 6, 'by': 3, 'from': 2, 'very': 2, 'in': 3, 'we': 3, 'are': 4, 'not': 3, 'as': 3, 'seems': 1, 'to': 11, 'be': 3, 'when': 2, 'a': 4, 'and': 7, 'for': 1, 'therefore': 2, 'no': 3, 'can': 2, 'on': 10, 'has': 5, 'but': 2, 'up': 1, 'full': 1, 'see': 1, 'some': 1, 'these': 1, 'less': 1, 'than': 1, 'that': 1, 'so': 1, 'since': 1, 'his': 1, 'he': 1, 'with': 1, 'many': 1, 'have': 3, 'they': 3, 'several': 2, 'were': 1, 'made': 1, 'last': 1, 'two': 1, 'now': 1, 'been': 1, 'may': 1, 'make': 1, 'our': 1, 'then': 1, 'go': 1}\n"
     ]
    }
   ],
   "source": [
    "#COUNTING WORDS:\n",
    "#create a dict to count the occurrences of stopwords:\n",
    "s_words = {}\n",
    "for i in doc:\n",
    "    if i.is_stop:  \n",
    "        if i.text in s_words:\n",
    "            s_words[i.text]+=1  #counts \n",
    "        else:\n",
    "            s_words[i.text]=1\n",
    "print(s_words)"
   ]
  },
  {
   "cell_type": "code",
   "execution_count": 41,
   "metadata": {},
   "outputs": [
    {
     "name": "stdout",
     "output_type": "stream",
     "text": [
      "{'moon': 21, 'satellite': 1, 'earth': 9, 'moves': 1, 'round': 1, 'shines': 2, 'night': 3, 'light': 1, 'reflected': 1, 'sun': 1, 'looks': 3, 'beautiful': 4, 'bright': 1, 'moonlight': 2, 'soothing': 1, 'earthly': 1, 'objects': 1, 'shine': 1, 'like': 1, 'silver': 1, 'fascinated': 2, 'enchanting': 1, 'beauty': 1, 'lovely': 1, 'sky': 1, 'matter': 1, 'fact': 2, 'devoid': 1, 'plants': 2, 'animals': 2, 'suitable': 1, 'place': 2, 'form': 1, 'life': 4, 'found': 1, 'unlike': 1, 'got': 1, 'atmosphere': 1, 'lunar': 3, 'days': 1, 'hot': 1, 'nights': 1, 'intensely': 1, 'cold': 1, 'forbidding': 1, 'appearance': 1, 'rocks': 3, 'craters': 2, 'look': 1, 'dark': 2, 'spots': 2, 'dangerous': 1, 'gravitational': 1, 'pull': 1, 'difficult': 1, 'walk': 1, 'surface': 2, 'man': 3, 'beginning': 1, 'looked': 1, 'wonder': 1, 'poets': 1, 'composed': 1, 'poems': 1, 'scientists': 2, 'tried': 1, 'reveal': 1, 'mystery': 1, 'wanted': 1, 'send': 1, 'human': 1, 'attempts': 1, 'americans': 1, '-': 2, 'neil': 1, 'armstrong': 1, 'edwin': 1, 'aldrin': 1, 'reached': 1, 'july': 1, '21': 1, '1969': 1, 'walked': 1, 'collected': 1, 'returned': 1, 'safely': 1, 'american': 1, 'sent': 1, 'men': 1, 'times': 1, 'conquered': 1, 'longer': 1, 'mysterious': 1, 'object': 1, 'journey': 1, 'thrilling': 1, 'happy': 2, 'better': 1}\n"
     ]
    }
   ],
   "source": [
    "#create a dict to count the occurrences of non-stopwords:\n",
    "non_stop = {}\n",
    "for i in doc:\n",
    "    if not i.is_stop:  # not\n",
    "        if i.text in non_stop:\n",
    "            non_stop[i.text]+=1\n",
    "        else:\n",
    "            non_stop[i.text]=1\n",
    "print(non_stop) "
   ]
  },
  {
   "cell_type": "code",
   "execution_count": 42,
   "metadata": {},
   "outputs": [
    {
     "name": "stdout",
     "output_type": "stream",
     "text": [
      "    STOPWORDS  COUNT\n",
      "0         the     47\n",
      "1          is     10\n",
      "2          of     13\n",
      "3          it     15\n",
      "4          at      6\n",
      "5          by      3\n",
      "6        from      2\n",
      "7        very      2\n",
      "8          in      3\n",
      "9          we      3\n",
      "10        are      4\n",
      "11        not      3\n",
      "12         as      3\n",
      "13      seems      1\n",
      "14         to     11\n",
      "15         be      3\n",
      "16       when      2\n",
      "17          a      4\n",
      "18        and      7\n",
      "19        for      1\n",
      "20  therefore      2\n",
      "21         no      3\n",
      "22        can      2\n",
      "23         on     10\n",
      "24        has      5\n",
      "25        but      2\n",
      "26         up      1\n",
      "27       full      1\n",
      "28        see      1\n",
      "29       some      1\n",
      "30      these      1\n",
      "31       less      1\n",
      "32       than      1\n",
      "33       that      1\n",
      "34         so      1\n",
      "35      since      1\n",
      "36        his      1\n",
      "37         he      1\n",
      "38       with      1\n",
      "39       many      1\n",
      "40       have      3\n",
      "41       they      3\n",
      "42    several      2\n",
      "43       were      1\n",
      "44       made      1\n",
      "45       last      1\n",
      "46        two      1\n",
      "47        now      1\n",
      "48       been      1\n",
      "49        may      1\n",
      "50       make      1\n",
      "51        our      1\n",
      "52       then      1\n",
      "53         go      1\n"
     ]
    }
   ],
   "source": [
    "#create a dataframe for STOPWORDS with word-count pair\n",
    "import pandas as pd\n",
    "stop_df = pd.DataFrame({'STOPWORDS':list(s_words.keys()),'COUNT': list(s_words.values())})\n",
    "print(stop_df)\n",
    "\n"
   ]
  },
  {
   "cell_type": "code",
   "execution_count": 43,
   "metadata": {},
   "outputs": [
    {
     "name": "stdout",
     "output_type": "stream",
     "text": [
      "   NON-STOPWORDS  COUNT\n",
      "0           moon     21\n",
      "1      satellite      1\n",
      "2          earth      9\n",
      "3          moves      1\n",
      "4          round      1\n",
      "..           ...    ...\n",
      "93        object      1\n",
      "94       journey      1\n",
      "95     thrilling      1\n",
      "96         happy      2\n",
      "97        better      1\n",
      "\n",
      "[98 rows x 2 columns]\n"
     ]
    }
   ],
   "source": [
    "#create a dataframe for NON-STOPWORDS with word-count pair\n",
    "nonstop_df = pd.DataFrame({'NON-STOPWORDS':list(non_stop.keys()),'COUNT':list(non_stop.values())})\n",
    "print(nonstop_df)"
   ]
  },
  {
   "cell_type": "code",
   "execution_count": 44,
   "metadata": {},
   "outputs": [
    {
     "name": "stdout",
     "output_type": "stream",
     "text": [
      "\n",
      "\n",
      "Removed stopwords from the text: \n",
      " moon satellite earth moves round earth shines night light reflected sun looks beautiful bright moonlight soothing earthly objects shine like silver moonlight fascinated enchanting beauty moon moon beautiful looks lovely shines sky night matter fact devoid plants animals moon suitable place plants animals form life found moon unlike earth moon got atmosphere lunar days hot lunar nights intensely cold moon looks beautiful earth fact forbidding appearance rocks craters look moon night dark spots dark spots dangerous rocks craters gravitational pull moon earth difficult walk surface moon moon fascinated man beginning life earth looked wonder poets composed beautiful poems moon scientists tried reveal mystery moon wanted send human moon attempts place man moon americans - neil armstrong edwin aldrin - reached moon july 21 1969 walked surface moon collected lunar rocks returned earth safely american scientists sent men moon times moon conquered man longer mysterious object journey moon thrilling life earth happy better happy life earth moon\n"
     ]
    }
   ],
   "source": [
    "remove = [i for i in doc if i.text not in non]\n",
    "rem = ' '.join(i.text for i in remove)   #separator.join(iterable)\n",
    "print(\"\\n\\nRemoved stopwords from the text: \\n\",rem)"
   ]
  }
 ],
 "metadata": {
  "kernelspec": {
   "display_name": "Python 3",
   "language": "python",
   "name": "python3"
  },
  "language_info": {
   "codemirror_mode": {
    "name": "ipython",
    "version": 3
   },
   "file_extension": ".py",
   "mimetype": "text/x-python",
   "name": "python",
   "nbconvert_exporter": "python",
   "pygments_lexer": "ipython3",
   "version": "3.11.3"
  },
  "orig_nbformat": 4
 },
 "nbformat": 4,
 "nbformat_minor": 2
}
